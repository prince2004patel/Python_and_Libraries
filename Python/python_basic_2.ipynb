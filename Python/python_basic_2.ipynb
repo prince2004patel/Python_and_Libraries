{
 "cells": [
  {
   "cell_type": "code",
   "execution_count": 55,
   "id": "68da0fe4-c0bc-429b-bae2-52c55428a19b",
   "metadata": {},
   "outputs": [
    {
     "data": {
      "text/plain": [
       "125.0"
      ]
     },
     "execution_count": 55,
     "metadata": {},
     "output_type": "execute_result"
    }
   ],
   "source": [
    "500 * (0.2 * 1.25)"
   ]
  },
  {
   "cell_type": "code",
   "execution_count": 6,
   "id": "02d55647-7062-4195-9112-9a18fa5a2f71",
   "metadata": {},
   "outputs": [],
   "source": [
    "cost_of_ice_bag = 1.25\n"
   ]
  },
  {
   "cell_type": "code",
   "execution_count": 3,
   "id": "7d9a89eb-da5c-48a7-8859-1ddd836b8cf9",
   "metadata": {},
   "outputs": [],
   "source": [
    "profit_margin = .2"
   ]
  },
  {
   "cell_type": "code",
   "execution_count": 4,
   "id": "9f44005b-21df-493c-af69-1e212d275b46",
   "metadata": {},
   "outputs": [],
   "source": [
    "number_of_bags = 500"
   ]
  },
  {
   "cell_type": "code",
   "execution_count": 5,
   "id": "ac4722b0-b3bd-4d42-938b-6ca5bf5210f2",
   "metadata": {},
   "outputs": [
    {
     "data": {
      "text/plain": [
       "0.2"
      ]
     },
     "execution_count": 5,
     "metadata": {},
     "output_type": "execute_result"
    }
   ],
   "source": [
    "profit_margin"
   ]
  },
  {
   "cell_type": "code",
   "execution_count": 7,
   "id": "3fe7fe3d-cc0b-4ecc-93e8-b00ae61a8234",
   "metadata": {},
   "outputs": [],
   "source": [
    "profit_per_bag = cost_of_ice_bag * profit_margin"
   ]
  },
  {
   "cell_type": "code",
   "execution_count": 8,
   "id": "64adcba5-79cd-47f6-96ac-fee57698f69d",
   "metadata": {},
   "outputs": [
    {
     "data": {
      "text/plain": [
       "0.25"
      ]
     },
     "execution_count": 8,
     "metadata": {},
     "output_type": "execute_result"
    }
   ],
   "source": [
    "profit_per_bag"
   ]
  },
  {
   "cell_type": "code",
   "execution_count": 9,
   "id": "616e31f4-46b2-408b-950e-f67e5f6b36be",
   "metadata": {},
   "outputs": [],
   "source": [
    "total_profit = number_of_bags * profit_per_bag"
   ]
  },
  {
   "cell_type": "code",
   "execution_count": 10,
   "id": "4f579aaa-2bea-4362-8bd8-9e7ccc4e36f5",
   "metadata": {},
   "outputs": [
    {
     "data": {
      "text/plain": [
       "125.0"
      ]
     },
     "execution_count": 10,
     "metadata": {},
     "output_type": "execute_result"
    }
   ],
   "source": [
    "total_profit"
   ]
  },
  {
   "cell_type": "code",
   "execution_count": 11,
   "id": "f83d1f7f-f505-4703-95ed-4a19caa843f6",
   "metadata": {},
   "outputs": [
    {
     "name": "stdout",
     "output_type": "stream",
     "text": [
      "the grocery store make a total profit of $ 125.0\n"
     ]
    }
   ],
   "source": [
    "print(\"the grocery store make a total profit of $\",total_profit)"
   ]
  },
  {
   "cell_type": "markdown",
   "id": "957890d8-bc38-455b-90ab-e9f102808604",
   "metadata": {},
   "source": [
    "adding text"
   ]
  },
  {
   "cell_type": "markdown",
   "id": "95070e1b-5e09-415e-891d-21c2a37855d1",
   "metadata": {},
   "source": [
    "# header1"
   ]
  },
  {
   "cell_type": "code",
   "execution_count": 1,
   "id": "65b9757a-cb31-4460-a22b-f95eab03a531",
   "metadata": {},
   "outputs": [],
   "source": [
    "value = 1234567890"
   ]
  },
  {
   "cell_type": "code",
   "execution_count": 2,
   "id": "f8834170-1b1f-4c50-ba6b-3a0d80ea343f",
   "metadata": {},
   "outputs": [
    {
     "data": {
      "text/plain": [
       "1234567890"
      ]
     },
     "execution_count": 2,
     "metadata": {},
     "output_type": "execute_result"
    }
   ],
   "source": [
    "value"
   ]
  },
  {
   "cell_type": "code",
   "execution_count": 3,
   "id": "2354e372-68b9-4f89-bddc-61f6f4e6bdef",
   "metadata": {},
   "outputs": [
    {
     "data": {
      "text/plain": [
       "int"
      ]
     },
     "execution_count": 3,
     "metadata": {},
     "output_type": "execute_result"
    }
   ],
   "source": [
    "type(value)"
   ]
  },
  {
   "cell_type": "markdown",
   "id": "a90beec0-b157-4824-b85a-f31c20fde67c",
   "metadata": {},
   "source": [
    "Unlike some other programming languages, integers in Python can be arbitrarily large (or small). There's no lowest or highest value for integers, and there's just one int type (as opposed to short, int, long, long long, unsigned int, etc. in C/C++/Java)."
   ]
  },
  {
   "cell_type": "code",
   "execution_count": 4,
   "id": "6632c136-0a2f-4683-a69c-002dde44e498",
   "metadata": {},
   "outputs": [],
   "source": [
    "pi = 3.141592"
   ]
  },
  {
   "cell_type": "code",
   "execution_count": 5,
   "id": "1bb1b9d8-dcb1-4718-8aa7-6ce7baf4abbb",
   "metadata": {},
   "outputs": [
    {
     "data": {
      "text/plain": [
       "3.141592"
      ]
     },
     "execution_count": 5,
     "metadata": {},
     "output_type": "execute_result"
    }
   ],
   "source": [
    "pi"
   ]
  },
  {
   "cell_type": "code",
   "execution_count": 6,
   "id": "74109b10-a02c-4262-a4a9-0c428d2ffa63",
   "metadata": {},
   "outputs": [
    {
     "data": {
      "text/plain": [
       "float"
      ]
     },
     "execution_count": 6,
     "metadata": {},
     "output_type": "execute_result"
    }
   ],
   "source": [
    "type(pi)\n"
   ]
  },
  {
   "cell_type": "code",
   "execution_count": 7,
   "id": "69b6ddb5-27bb-4fca-8b6a-ee555753d3ad",
   "metadata": {},
   "outputs": [
    {
     "data": {
      "text/plain": [
       "3"
      ]
     },
     "execution_count": 7,
     "metadata": {},
     "output_type": "execute_result"
    }
   ],
   "source": [
    "int(pi)"
   ]
  },
  {
   "cell_type": "code",
   "execution_count": 9,
   "id": "fbffbb69-0cd0-4518-b410-2cc5be1a687c",
   "metadata": {},
   "outputs": [
    {
     "data": {
      "text/plain": [
       "5"
      ]
     },
     "execution_count": 9,
     "metadata": {},
     "output_type": "execute_result"
    }
   ],
   "source": [
    "5 + False"
   ]
  },
  {
   "cell_type": "code",
   "execution_count": 10,
   "id": "5cd13cf9-224d-44ae-9e91-60de3a351a34",
   "metadata": {},
   "outputs": [
    {
     "data": {
      "text/plain": [
       "7"
      ]
     },
     "execution_count": 10,
     "metadata": {},
     "output_type": "execute_result"
    }
   ],
   "source": [
    "6 + True"
   ]
  },
  {
   "cell_type": "code",
   "execution_count": 11,
   "id": "2f6b0f27-7f91-45f9-9c40-65630d48e915",
   "metadata": {},
   "outputs": [
    {
     "data": {
      "text/plain": [
       "'a\\nb'"
      ]
     },
     "execution_count": 11,
     "metadata": {},
     "output_type": "execute_result"
    }
   ],
   "source": [
    "multiple_string = \"\"\"a\n",
    "b\"\"\"\n",
    "multiple_string"
   ]
  },
  {
   "cell_type": "markdown",
   "id": "44cadfea-6c3b-4072-8c1e-7db121cf5954",
   "metadata": {},
   "source": [
    "string store the when we click the enter button and show like \\n"
   ]
  },
  {
   "cell_type": "code",
   "execution_count": 12,
   "id": "3f003c54-381e-47d1-98af-f1da6418e066",
   "metadata": {},
   "outputs": [
    {
     "data": {
      "text/plain": [
       "str"
      ]
     },
     "execution_count": 12,
     "metadata": {},
     "output_type": "execute_result"
    }
   ],
   "source": [
    "type(multiple_string)"
   ]
  },
  {
   "cell_type": "code",
   "execution_count": 13,
   "id": "0a825d46-f861-44a0-9452-6527a72e9e10",
   "metadata": {},
   "outputs": [
    {
     "data": {
      "text/plain": [
       "3"
      ]
     },
     "execution_count": 13,
     "metadata": {},
     "output_type": "execute_result"
    }
   ],
   "source": [
    "len(multiple_string)"
   ]
  },
  {
   "cell_type": "code",
   "execution_count": 14,
   "id": "a0a90e66-0cae-4eef-876a-5d023b8fa7ba",
   "metadata": {},
   "outputs": [],
   "source": [
    "today = \"Monday\""
   ]
  },
  {
   "cell_type": "code",
   "execution_count": 15,
   "id": "32ec5894-5bfe-4563-b7b0-17543c128c18",
   "metadata": {},
   "outputs": [
    {
     "data": {
      "text/plain": [
       "'M'"
      ]
     },
     "execution_count": 15,
     "metadata": {},
     "output_type": "execute_result"
    }
   ],
   "source": [
    "today[0]"
   ]
  },
  {
   "cell_type": "code",
   "execution_count": 16,
   "id": "76d03985-dd31-4a98-ac42-fbf180e41b7e",
   "metadata": {},
   "outputs": [
    {
     "data": {
      "text/plain": [
       "'on'"
      ]
     },
     "execution_count": 16,
     "metadata": {},
     "output_type": "execute_result"
    }
   ],
   "source": [
    "today[1:3]"
   ]
  },
  {
   "cell_type": "code",
   "execution_count": 17,
   "id": "304e9502-23ca-4456-bb1b-33518d307faa",
   "metadata": {},
   "outputs": [
    {
     "data": {
      "text/plain": [
       "True"
      ]
     },
     "execution_count": 17,
     "metadata": {},
     "output_type": "execute_result"
    }
   ],
   "source": [
    "\"day\" in today"
   ]
  },
  {
   "cell_type": "code",
   "execution_count": 18,
   "id": "51a4dbe6-18c6-4447-b80d-f1cbafc2b137",
   "metadata": {},
   "outputs": [
    {
     "data": {
      "text/plain": [
       "False"
      ]
     },
     "execution_count": 18,
     "metadata": {},
     "output_type": "execute_result"
    }
   ],
   "source": [
    "\"sun\" in today"
   ]
  },
  {
   "cell_type": "code",
   "execution_count": 19,
   "id": "c5109366-4d5e-4871-9f9c-f6ea65d81bc6",
   "metadata": {},
   "outputs": [],
   "source": [
    "greeting = \"Hello\""
   ]
  },
  {
   "cell_type": "code",
   "execution_count": 23,
   "id": "990c6f14-0987-4690-b864-6f2108ec5a4b",
   "metadata": {},
   "outputs": [],
   "source": [
    "name = \"prince\"\n"
   ]
  },
  {
   "cell_type": "code",
   "execution_count": 24,
   "id": "2254cc0f-65ea-4d3c-89c8-5917100b3e47",
   "metadata": {},
   "outputs": [
    {
     "data": {
      "text/plain": [
       "'Helloprince'"
      ]
     },
     "execution_count": 24,
     "metadata": {},
     "output_type": "execute_result"
    }
   ],
   "source": [
    "greeting + name"
   ]
  },
  {
   "cell_type": "code",
   "execution_count": 27,
   "id": "ed7203bf-b6f9-4c51-a722-77debe3c097f",
   "metadata": {},
   "outputs": [
    {
     "data": {
      "text/plain": [
       "'Hello prince'"
      ]
     },
     "execution_count": 27,
     "metadata": {},
     "output_type": "execute_result"
    }
   ],
   "source": [
    "greeting + \" \" + name"
   ]
  },
  {
   "cell_type": "code",
   "execution_count": 28,
   "id": "c7edeafb-f6aa-4c0a-898e-29b9d4bb2865",
   "metadata": {},
   "outputs": [
    {
     "data": {
      "text/plain": [
       "'MONDAY'"
      ]
     },
     "execution_count": 28,
     "metadata": {},
     "output_type": "execute_result"
    }
   ],
   "source": [
    "today.upper()"
   ]
  },
  {
   "cell_type": "code",
   "execution_count": 29,
   "id": "8d414ae3-bf54-4424-ae3b-91eb6872458f",
   "metadata": {},
   "outputs": [
    {
     "data": {
      "text/plain": [
       "'Prince'"
      ]
     },
     "execution_count": 29,
     "metadata": {},
     "output_type": "execute_result"
    }
   ],
   "source": [
    "name.capitalize()"
   ]
  },
  {
   "cell_type": "code",
   "execution_count": 30,
   "id": "21af37b7-b480-4463-8627-9d932faee3f1",
   "metadata": {},
   "outputs": [],
   "source": [
    "fruits = ['apple', 'banana', 'cherry']"
   ]
  },
  {
   "cell_type": "code",
   "execution_count": 31,
   "id": "c5c7255a-2f5f-4df1-9b51-589a0f629180",
   "metadata": {},
   "outputs": [
    {
     "data": {
      "text/plain": [
       "['apple', 'banana', 'cherry']"
      ]
     },
     "execution_count": 31,
     "metadata": {},
     "output_type": "execute_result"
    }
   ],
   "source": [
    "fruits"
   ]
  },
  {
   "cell_type": "code",
   "execution_count": 32,
   "id": "6cb67264-fd27-477b-9b93-714856137e68",
   "metadata": {},
   "outputs": [
    {
     "data": {
      "text/plain": [
       "list"
      ]
     },
     "execution_count": 32,
     "metadata": {},
     "output_type": "execute_result"
    }
   ],
   "source": [
    "type(fruits)\n"
   ]
  },
  {
   "cell_type": "code",
   "execution_count": 33,
   "id": "30f05650-4f75-40e0-af4c-c29cfdb9d2ed",
   "metadata": {},
   "outputs": [
    {
     "data": {
      "text/plain": [
       "'apple'"
      ]
     },
     "execution_count": 33,
     "metadata": {},
     "output_type": "execute_result"
    }
   ],
   "source": [
    "fruits[0]"
   ]
  },
  {
   "cell_type": "code",
   "execution_count": 34,
   "id": "1fe2a5ec-71f8-4d18-929c-9ff8ae0b3ff0",
   "metadata": {},
   "outputs": [
    {
     "data": {
      "text/plain": [
       "'cherry'"
      ]
     },
     "execution_count": 34,
     "metadata": {},
     "output_type": "execute_result"
    }
   ],
   "source": [
    "fruits[-1]\n"
   ]
  },
  {
   "cell_type": "code",
   "execution_count": 35,
   "id": "ced77bb5-4268-453c-8daa-a5515962ff40",
   "metadata": {},
   "outputs": [],
   "source": [
    "a_list = [23, 'hello', None, 3.14, fruits, 3 <= 5]"
   ]
  },
  {
   "cell_type": "code",
   "execution_count": 36,
   "id": "afeec97f-d7af-4ba8-a2f9-77b49d29078f",
   "metadata": {},
   "outputs": [
    {
     "data": {
      "text/plain": [
       "[23, 'hello', None, 3.14, ['apple', 'banana', 'cherry'], True]"
      ]
     },
     "execution_count": 36,
     "metadata": {},
     "output_type": "execute_result"
    }
   ],
   "source": [
    "a_list"
   ]
  },
  {
   "cell_type": "code",
   "execution_count": 37,
   "id": "9eca6095-c7f4-47fe-b139-7eeb5f1fa2be",
   "metadata": {},
   "outputs": [
    {
     "data": {
      "text/plain": [
       "[None, 3.14, ['apple', 'banana', 'cherry']]"
      ]
     },
     "execution_count": 37,
     "metadata": {},
     "output_type": "execute_result"
    }
   ],
   "source": [
    "a_list[2:5]"
   ]
  },
  {
   "cell_type": "code",
   "execution_count": 38,
   "id": "d9488b09-300c-422a-bfad-336909f9634d",
   "metadata": {},
   "outputs": [],
   "source": [
    "fruits.append('dates')"
   ]
  },
  {
   "cell_type": "code",
   "execution_count": 39,
   "id": "37bb6fc2-8d21-4a0e-9d79-bf4b6d142c85",
   "metadata": {},
   "outputs": [
    {
     "data": {
      "text/plain": [
       "['apple', 'banana', 'cherry', 'dates']"
      ]
     },
     "execution_count": 39,
     "metadata": {},
     "output_type": "execute_result"
    }
   ],
   "source": [
    "fruits"
   ]
  },
  {
   "cell_type": "code",
   "execution_count": 40,
   "id": "edba7e7c-72e2-4f10-bef1-e395f4eae153",
   "metadata": {},
   "outputs": [],
   "source": [
    "fruits.insert(1, 'banana')"
   ]
  },
  {
   "cell_type": "code",
   "execution_count": 41,
   "id": "2ec9a6d1-c545-4eae-8649-cff820a2c859",
   "metadata": {},
   "outputs": [
    {
     "data": {
      "text/plain": [
       "['apple', 'banana', 'banana', 'cherry', 'dates']"
      ]
     },
     "execution_count": 41,
     "metadata": {},
     "output_type": "execute_result"
    }
   ],
   "source": [
    "fruits"
   ]
  },
  {
   "cell_type": "code",
   "execution_count": 43,
   "id": "4fd19daf-3783-4456-b648-bfb06fdd9510",
   "metadata": {},
   "outputs": [],
   "source": [
    "fruits.remove('dates')"
   ]
  },
  {
   "cell_type": "code",
   "execution_count": 44,
   "id": "697c0bc8-9144-43fb-9c1c-69933c6a3355",
   "metadata": {},
   "outputs": [
    {
     "data": {
      "text/plain": [
       "['apple', 'banana', 'banana', 'cherry']"
      ]
     },
     "execution_count": 44,
     "metadata": {},
     "output_type": "execute_result"
    }
   ],
   "source": [
    "fruits"
   ]
  },
  {
   "cell_type": "code",
   "execution_count": 45,
   "id": "faf18f3e-f656-4a1a-a084-398763271c04",
   "metadata": {},
   "outputs": [
    {
     "data": {
      "text/plain": [
       "'banana'"
      ]
     },
     "execution_count": 45,
     "metadata": {},
     "output_type": "execute_result"
    }
   ],
   "source": [
    "fruits.pop(1)"
   ]
  },
  {
   "cell_type": "code",
   "execution_count": 46,
   "id": "ef94aefe-ff1c-42a1-8695-0191f10849f5",
   "metadata": {},
   "outputs": [
    {
     "data": {
      "text/plain": [
       "['apple', 'banana', 'cherry']"
      ]
     },
     "execution_count": 46,
     "metadata": {},
     "output_type": "execute_result"
    }
   ],
   "source": [
    "fruits"
   ]
  },
  {
   "cell_type": "code",
   "execution_count": 49,
   "id": "0f994178-a95c-4258-97f5-38ede0d6a6a8",
   "metadata": {},
   "outputs": [],
   "source": [
    "fruit = ('apple', 'cherry', 'dates')"
   ]
  },
  {
   "cell_type": "code",
   "execution_count": 50,
   "id": "5c9c0c66-a515-403f-acfe-675b041de676",
   "metadata": {},
   "outputs": [
    {
     "data": {
      "text/plain": [
       "tuple"
      ]
     },
     "execution_count": 50,
     "metadata": {},
     "output_type": "execute_result"
    }
   ],
   "source": [
    "type(fruit)"
   ]
  },
  {
   "cell_type": "code",
   "execution_count": 51,
   "id": "f73c2659-345a-4bf4-afc9-5870137bcbe3",
   "metadata": {},
   "outputs": [],
   "source": [
    "person1 = {\n",
    "    'name': 'John Doe',\n",
    "    'sex': 'Male',\n",
    "    'age': 32,\n",
    "    'married': True\n",
    "}"
   ]
  },
  {
   "cell_type": "code",
   "execution_count": 52,
   "id": "1876541a-8152-4ff1-ac28-8baa702e2817",
   "metadata": {},
   "outputs": [
    {
     "data": {
      "text/plain": [
       "{'name': 'John Doe', 'sex': 'Male', 'age': 32, 'married': True}"
      ]
     },
     "execution_count": 52,
     "metadata": {},
     "output_type": "execute_result"
    }
   ],
   "source": [
    "person1"
   ]
  },
  {
   "cell_type": "code",
   "execution_count": 53,
   "id": "e225e864-6f80-4456-867b-3dffc3ded318",
   "metadata": {},
   "outputs": [
    {
     "data": {
      "text/plain": [
       "dict"
      ]
     },
     "execution_count": 53,
     "metadata": {},
     "output_type": "execute_result"
    }
   ],
   "source": [
    "type(person1)"
   ]
  },
  {
   "cell_type": "code",
   "execution_count": 54,
   "id": "0da86dab-f72b-4b44-9aac-66f3116b1354",
   "metadata": {},
   "outputs": [
    {
     "data": {
      "text/plain": [
       "'John Doe'"
      ]
     },
     "execution_count": 54,
     "metadata": {},
     "output_type": "execute_result"
    }
   ],
   "source": [
    "person1['name']"
   ]
  },
  {
   "cell_type": "code",
   "execution_count": 56,
   "id": "d0d15daa-d901-4c63-9367-40f41351796a",
   "metadata": {},
   "outputs": [
    {
     "data": {
      "text/plain": [
       "'Monday'"
      ]
     },
     "execution_count": 56,
     "metadata": {},
     "output_type": "execute_result"
    }
   ],
   "source": [
    " today"
   ]
  },
  {
   "cell_type": "code",
   "execution_count": 57,
   "id": "e568a1d0-a35d-4291-912c-474c0fe42e0e",
   "metadata": {},
   "outputs": [
    {
     "data": {
      "text/plain": [
       "'Sunday'"
      ]
     },
     "execution_count": 57,
     "metadata": {},
     "output_type": "execute_result"
    }
   ],
   "source": [
    "another_day = today.replace(\"Mon\",\"Sun\")\n",
    "another_day"
   ]
  },
  {
   "cell_type": "code",
   "execution_count": 58,
   "id": "9d520ea5-6273-4e1c-8250-2828df11ba13",
   "metadata": {},
   "outputs": [
    {
     "name": "stdout",
     "output_type": "stream",
     "text": [
      "If a grocery store sells ice bags at $ {} per bag, with a profit margin of {} %, \n",
      "then the total profit it makes by selling {} ice bags is $ {}.\n"
     ]
    }
   ],
   "source": [
    "# Input variables\n",
    "cost_of_ice_bag = 1.25\n",
    "profit_margin = .2\n",
    "number_of_bags = 500\n",
    "\n",
    "# Template for output message\n",
    "output_template = \"\"\"If a grocery store sells ice bags at $ {} per bag, with a profit margin of {} %, \n",
    "then the total profit it makes by selling {} ice bags is $ {}.\"\"\"\n",
    "\n",
    "print(output_template)"
   ]
  },
  {
   "cell_type": "code",
   "execution_count": 59,
   "id": "90f7d4e6-6a7c-4624-afa9-550f066afc82",
   "metadata": {},
   "outputs": [
    {
     "name": "stdout",
     "output_type": "stream",
     "text": [
      "If a grocery store sells ice bags at $ 1.25 per bag, with a profit margin of 20.0 %, \n",
      "then the total profit it makes by selling 500 ice bags is $ 125.0.\n"
     ]
    }
   ],
   "source": [
    "# Inserting values into the string\n",
    "total_profit = cost_of_ice_bag * profit_margin * number_of_bags\n",
    "\n",
    "output_message = output_template.format(cost_of_ice_bag, profit_margin*100, number_of_bags, total_profit)\n",
    "\n",
    "print(output_message)"
   ]
  },
  {
   "attachments": {
    "984d5b65-af06-485e-831d-dba514155700.png": {
     "image/png": "[encoded data removed]"
    }
   },
   "cell_type": "markdown",
   "id": "0e82c111-5272-464f-b08f-e128deec3814",
   "metadata": {},
   "source": [
    "![loops.png](attachment:984d5b65-af06-485e-831d-dba514155700.png)"
   ]
  },
  {
   "cell_type": "code",
   "execution_count": 61,
   "id": "cf8b3908-efd6-45b4-864a-ab47c126db67",
   "metadata": {},
   "outputs": [
    {
     "name": "stdout",
     "output_type": "stream",
     "text": [
      "The given number 34 is even.\n"
     ]
    }
   ],
   "source": [
    "a_number = 34\n",
    "if a_number % 2 == 0:\n",
    "    print('The given number {} is even.'.format(a_number))\n",
    "else:\n",
    "    print('The given number {} is odd.'.format(a_number))\n"
   ]
  },
  {
   "cell_type": "code",
   "execution_count": 62,
   "id": "4f72284e-77e0-4a15-93af-50fef3ef6d45",
   "metadata": {},
   "outputs": [
    {
     "name": "stdout",
     "output_type": "stream",
     "text": [
      "34 is divisible by 2\n"
     ]
    }
   ],
   "source": [
    "if a_number % 2 == 0:\n",
    "    print('{} is divisible by 2'.format(a_number))\n",
    "elif a_number % 3 == 0:\n",
    "    print('{} is divisible by 3'.format(a_number))\n",
    "elif a_number % 5 == 0:\n",
    "    print('{} is divisible by 5'.format(a_number))\n",
    "else:\n",
    "    print('All checks failed!')\n",
    "    print('{} is not divisible by 2, 3 or 5'.format(a_number))"
   ]
  },
  {
   "cell_type": "code",
   "execution_count": 66,
   "id": "9a17299d-a1a3-40ae-9a0a-1763452e271d",
   "metadata": {},
   "outputs": [
    {
     "name": "stdin",
     "output_type": "stream",
     "text": [
      "enter the number: 31\n"
     ]
    },
    {
     "name": "stdout",
     "output_type": "stream",
     "text": [
      "The number 31 is odd.\n"
     ]
    }
   ],
   "source": [
    "a_number = int(input(\"enter the number:\"))\n",
    "\n",
    "if a_number % 2 == 0:\n",
    "    parity = 'even'\n",
    "else:\n",
    "    parity = 'odd'\n",
    "\n",
    "print('The number {} is {}.'.format(a_number, parity))"
   ]
  },
  {
   "cell_type": "code",
   "execution_count": 71,
   "id": "55526e3d-724b-4b43-bb69-f40a5d46f2da",
   "metadata": {},
   "outputs": [
    {
     "name": "stdout",
     "output_type": "stream",
     "text": [
      "the factorial of 100 is 93326215443944152681699238856266700490715968264381621468592963895217599993229915608941463976156518286253697920827223758251185210916864000000000000000000000000\n"
     ]
    }
   ],
   "source": [
    "result =1\n",
    "i=1\n",
    "\n",
    "while i<=100:\n",
    "    result=result*i\n",
    "    i=i+1\n",
    "\n",
    "print('the factorial of 100 is {}'.format(result))"
   ]
  },
  {
   "cell_type": "code",
   "execution_count": 16,
   "id": "417855ed-709b-4898-9694-e1dc1a4ec43a",
   "metadata": {},
   "outputs": [
    {
     "name": "stdout",
     "output_type": "stream",
     "text": [
      "*\n",
      "**\n",
      "***\n",
      "****\n",
      "*****\n"
     ]
    }
   ],
   "source": [
    "for i in range(5):\n",
    "    for j in range(i+1):\n",
    "        print(\"*\",end=\"\")\n",
    "    print()\n",
    "   \n",
    "\n"
   ]
  },
  {
   "cell_type": "code",
   "execution_count": 34,
   "id": "7e08d68a-3968-4072-bbf7-25479ecbe248",
   "metadata": {},
   "outputs": [
    {
     "name": "stdout",
     "output_type": "stream",
     "text": [
      "\t\n",
      "*\n",
      "\t\n",
      "***\n",
      "\t\n",
      "******\n",
      "\t\n",
      "**********\n",
      "\t\n",
      "***************\n"
     ]
    }
   ],
   "source": [
    "for i in range(5):\n",
    "    print(\"\\t\")\n",
    "    for j in range(5):\n",
    "        for k in range(i-j+1):\n",
    "            print(\"*\",end=\"\")\n",
    "    print()\n",
    "\n"
   ]
  },
  {
   "cell_type": "code",
   "execution_count": 39,
   "id": "5f97e4a8-cce0-4715-9dd8-e69a5a7bfc87",
   "metadata": {},
   "outputs": [
    {
     "name": "stdout",
     "output_type": "stream",
     "text": [
      "     *\n",
      "    ***\n",
      "   *****\n",
      "  *******\n",
      " *********\n",
      "***********\n",
      " *********\n",
      "  *******\n",
      "   *****\n",
      "    ***\n",
      "     *\n"
     ]
    }
   ],
   "source": [
    "n = 6\n",
    "\n",
    "# Top half of the diamond including the middle line\n",
    "for i in range(n):\n",
    "    for j in range(n - i - 1):\n",
    "        print(\" \", end=\"\")\n",
    "    for k in range(2 * i + 1):\n",
    "        print(\"*\", end=\"\")\n",
    "    print()\n",
    "\n",
    "# Bottom half of the diamond\n",
    "for i in range(n - 1):\n",
    "    for j in range(i + 1):\n",
    "        print(\" \", end=\"\")\n",
    "    for k in range(2 * (n - i - 2) + 1):\n",
    "        print(\"*\", end=\"\")\n",
    "    print()\n"
   ]
  },
  {
   "cell_type": "code",
   "execution_count": 40,
   "id": "b0b04ad9-5b9a-478a-adcb-687ec3b0e7fa",
   "metadata": {},
   "outputs": [
    {
     "name": "stdout",
     "output_type": "stream",
     "text": [
      "Key: name , Value: John Doe\n",
      "Key: sex , Value: Male\n",
      "Key: age , Value: 32\n",
      "Key: married , Value: True\n"
     ]
    }
   ],
   "source": [
    "# Looping over a dictionary\n",
    "person = {\n",
    "    'name': 'John Doe',\n",
    "    'sex': 'Male',\n",
    "    'age': 32,\n",
    "    'married': True\n",
    "}\n",
    "\n",
    "for key in person:\n",
    "    print(\"Key:\", key, \",\", \"Value:\", person[key])"
   ]
  },
  {
   "cell_type": "code",
   "execution_count": 41,
   "id": "259d01df-7a1c-4183-a8b8-caa271b6b4e3",
   "metadata": {},
   "outputs": [
    {
     "name": "stdout",
     "output_type": "stream",
     "text": [
      "John Doe\n",
      "Male\n",
      "32\n",
      "True\n"
     ]
    }
   ],
   "source": [
    "for value in person.values():\n",
    "    print(value)"
   ]
  },
  {
   "cell_type": "code",
   "execution_count": 42,
   "id": "bf21b26b-ec70-42d1-99d0-1086fc48f0d1",
   "metadata": {},
   "outputs": [
    {
     "name": "stdout",
     "output_type": "stream",
     "text": [
      "('name', 'John Doe')\n",
      "('sex', 'Male')\n",
      "('age', 32)\n",
      "('married', True)\n"
     ]
    }
   ],
   "source": [
    "for key_value_pair in person.items():\n",
    "    print(key_value_pair)"
   ]
  },
  {
   "cell_type": "code",
   "execution_count": 43,
   "id": "de2dc859-9349-4723-a200-3bcd28098b1f",
   "metadata": {},
   "outputs": [
    {
     "name": "stdout",
     "output_type": "stream",
     "text": [
      "0\n",
      "1\n",
      "2\n",
      "3\n",
      "4\n",
      "5\n",
      "6\n"
     ]
    }
   ],
   "source": [
    "for i in range(7):\n",
    "    print(i)"
   ]
  },
  {
   "cell_type": "code",
   "execution_count": 44,
   "id": "375d7e20-bc76-4332-9cd8-1f98efef29fa",
   "metadata": {},
   "outputs": [
    {
     "name": "stdout",
     "output_type": "stream",
     "text": [
      "3\n",
      "4\n",
      "5\n",
      "6\n",
      "7\n",
      "8\n",
      "9\n"
     ]
    }
   ],
   "source": [
    "for i in range(3, 10):\n",
    "    print(i)"
   ]
  },
  {
   "cell_type": "code",
   "execution_count": 45,
   "id": "d61370f3-9b16-4db1-a405-e5ab2f625f5c",
   "metadata": {},
   "outputs": [
    {
     "name": "stdout",
     "output_type": "stream",
     "text": [
      "3\n",
      "7\n",
      "11\n"
     ]
    }
   ],
   "source": [
    "for i in range(3, 14, 4):\n",
    "    print(i)"
   ]
  },
  {
   "cell_type": "code",
   "execution_count": 46,
   "id": "fb6fe789-24de-411a-817c-e52e25fff92e",
   "metadata": {},
   "outputs": [
    {
     "name": "stdout",
     "output_type": "stream",
     "text": [
      "The value at position 0 is Monday.\n",
      "The value at position 1 is Tuesday.\n",
      "The value at position 2 is Wednesday.\n",
      "The value at position 3 is Thursday.\n",
      "The value at position 4 is Friday.\n"
     ]
    }
   ],
   "source": [
    "a_list = ['Monday', 'Tuesday', 'Wednesday', 'Thursday', 'Friday']\n",
    "\n",
    "for i in range(len(a_list)):\n",
    "    print('The value at position {} is {}.'.format(i, a_list[i]))"
   ]
  },
  {
   "cell_type": "code",
   "execution_count": 1,
   "id": "4977ea09-385b-4f1e-ad84-891f6f565372",
   "metadata": {},
   "outputs": [],
   "source": [
    "def say_hello():\n",
    "    print(\"hello there!\")\n",
    "    print(\"how are you\")"
   ]
  },
  {
   "cell_type": "code",
   "execution_count": 2,
   "id": "225fd6e6-1360-44b9-b5a7-a25b5fbdfe8f",
   "metadata": {},
   "outputs": [
    {
     "name": "stdout",
     "output_type": "stream",
     "text": [
      "hello there!\n",
      "how are you\n"
     ]
    }
   ],
   "source": [
    "say_hello()"
   ]
  },
  {
   "cell_type": "code",
   "execution_count": 3,
   "id": "4aa079c1-74e5-4096-9a91-4bd427d6fc11",
   "metadata": {},
   "outputs": [],
   "source": [
    "def filter_even(number_list):\n",
    "    result_list = []\n",
    "    for number in number_list:\n",
    "        if number % 2 == 0:\n",
    "            result_list.append(number)\n",
    "    return result_list\n",
    "\n"
   ]
  },
  {
   "cell_type": "code",
   "execution_count": 4,
   "id": "7df0fc42-8bb0-4612-ab8c-34c6b73f9d6d",
   "metadata": {},
   "outputs": [],
   "source": [
    "even_list = filter_even([1,2,3,4,5,6,7,8,9,0])"
   ]
  },
  {
   "cell_type": "code",
   "execution_count": 5,
   "id": "f41d61e3-0ced-4d09-a592-91cd9716a28e",
   "metadata": {},
   "outputs": [
    {
     "data": {
      "text/plain": [
       "[2, 4, 6, 8, 0]"
      ]
     },
     "execution_count": 5,
     "metadata": {},
     "output_type": "execute_result"
    }
   ],
   "source": [
    "even_list"
   ]
  },
  {
   "cell_type": "code",
   "execution_count": 6,
   "id": "ad9b31dc-316d-48dd-b6ed-f3966fe63519",
   "metadata": {},
   "outputs": [
    {
     "data": {
      "text/plain": [
       "[2, 4, 6, 8, 0]"
      ]
     },
     "execution_count": 6,
     "metadata": {},
     "output_type": "execute_result"
    }
   ],
   "source": [
    "filter_even([1,2,3,4,5,6,7,8,9,0])"
   ]
  },
  {
   "cell_type": "markdown",
   "id": "bffe4c6c-0125-407c-b84f-c79007cbb4ea",
   "metadata": {},
   "source": [
    " Radha is planning to buy a house that costs $1,260,000. She considering two options to finance her purchase:\n",
    "\n",
    "Option 1: Make an immediate down payment of $300,000, and take loan 8-year loan with an interest rate of 10% (compounded monthly) for the remaining amount.\n",
    "Option 2: Take a 10-year loan with an interest rate of 8% (compounded monthly) for the entire amount.\n",
    "Both these loans have to be paid back in equal monthly installments (EMIs). Which loan has a lower EMI among the two?"
   ]
  },
  {
   "cell_type": "code",
   "execution_count": 37,
   "id": "beb2ff42-d656-4166-803c-3c9cc0194520",
   "metadata": {},
   "outputs": [],
   "source": [
    "import math\n",
    "def loan_emi(amount, duration, rate, down_payment=0):\n",
    "    loan_amount = amount - down_payment\n",
    "    emi= loan_amount * rate *((1+rate) ** duration) / (((1+rate) ** duration) - 1)\n",
    "    emi = math.ceil(emi)\n",
    "    return emi\n",
    "     # print('The EMI is ${}'.format(emi))\n",
    "    "
   ]
  },
  {
   "cell_type": "code",
   "execution_count": 38,
   "id": "549ff092-a04a-42d7-b374-6c19b9cfb7bc",
   "metadata": {},
   "outputs": [],
   "source": [
    "emi1 = loan_emi(\n",
    "    amount=1260000, \n",
    "    duration=8*12, \n",
    "    rate=0.1/12, \n",
    "    down_payment=300000\n",
    ")"
   ]
  },
  {
   "cell_type": "code",
   "execution_count": 39,
   "id": "0e6f429e-5e3e-46be-b5bc-f07395f70227",
   "metadata": {},
   "outputs": [],
   "source": [
    "emi2 = loan_emi(amount=1260000, duration=10*12, rate=0.08/12)"
   ]
  },
  {
   "cell_type": "code",
   "execution_count": 40,
   "id": "0ae0edfb-e09e-46e3-9cc9-8f0b05be0d76",
   "metadata": {},
   "outputs": [
    {
     "data": {
      "text/plain": [
       "14568"
      ]
     },
     "execution_count": 40,
     "metadata": {},
     "output_type": "execute_result"
    }
   ],
   "source": [
    "emi1"
   ]
  },
  {
   "cell_type": "code",
   "execution_count": 41,
   "id": "8cd6dd2c-a413-4cbd-8f3d-10d3554ca372",
   "metadata": {},
   "outputs": [
    {
     "data": {
      "text/plain": [
       "15288"
      ]
     },
     "execution_count": 41,
     "metadata": {},
     "output_type": "execute_result"
    }
   ],
   "source": [
    "emi2"
   ]
  },
  {
   "cell_type": "code",
   "execution_count": 42,
   "id": "9c49adb4-8e32-4ae6-b054-5c8bdaf4e11b",
   "metadata": {},
   "outputs": [
    {
     "name": "stdout",
     "output_type": "stream",
     "text": [
      "Option 1 has the lower EMI: $14568\n"
     ]
    }
   ],
   "source": [
    "if emi1 < emi2:\n",
    "    print(\"Option 1 has the lower EMI: ${}\".format(emi1))\n",
    "else:\n",
    "    print(\"Option 2 has the lower EMI: ${}\".format(emi2))"
   ]
  },
  {
   "attachments": {
    "3e5a9369-753d-454d-879d-6dede77d9d26.png": {
     "image/png": "[encoded data removed]"
    }
   },
   "cell_type": "markdown",
   "id": "102d48d7-555f-4561-aa7e-28b202160098",
   "metadata": {},
   "source": [
    "![emi_formula.png](attachment:3e5a9369-753d-454d-879d-6dede77d9d26.png)"
   ]
  },
  {
   "cell_type": "markdown",
   "id": "9127946c-cdf9-4f1a-a448-84642cc4c545",
   "metadata": {},
   "source": [
    "----> P is the loan amount (principal)\n",
    "----> n is the no. of months\n",
    "----> r is the rate of interest per month"
   ]
  },
  {
   "cell_type": "code",
   "execution_count": 59,
   "id": "f480cf98-487d-4aef-8bc4-10fbcb9be866",
   "metadata": {},
   "outputs": [
    {
     "name": "stdout",
     "output_type": "stream",
     "text": [
      "29\n",
      "1\n",
      "729.0\n",
      "5.0\n",
      "479001600\n"
     ]
    }
   ],
   "source": [
    "import math\n",
    "\n",
    "print(math.ceil(28.57))\n",
    "print(math.floor(1.8))\n",
    "print(math.pow(9, 3))\n",
    "print (math.sqrt(25))\n",
    "print(math.factorial(12))\n"
   ]
  },
  {
   "cell_type": "markdown",
   "id": "e98e2132-a1de-446d-87a7-12900a86aa3d",
   "metadata": {},
   "source": [
    "Shaun is currently paying back a home loan for a house he bought a few years ago. The cost of the house was 800,000. Shaun made a down payment of 25% of the price. He financed the remaining amount using a 6-year loan with an interest rate of 7% per annum (compounded monthly). Shaun is now buying a car worth $60,000, which he is planning to finance using a 1-year loan with an interest rate of 12% per annum. Both loans are paid back in EMIs. What is the total monthly payment Shaun makes towards loan repayment?"
   ]
  },
  {
   "cell_type": "code",
   "execution_count": 47,
   "id": "c1d2c31f-529f-489c-b4db-4b615edc894e",
   "metadata": {},
   "outputs": [
    {
     "data": {
      "text/plain": [
       "10230"
      ]
     },
     "execution_count": 47,
     "metadata": {},
     "output_type": "execute_result"
    }
   ],
   "source": [
    "cost_of_house = 800000\n",
    "home_loan_duration = 6*12 # months\n",
    "home_loan_rate = 0.07/12 # monthly\n",
    "home_down_payment = .25 * 800000\n",
    "\n",
    "emi_house = loan_emi(amount=cost_of_house,\n",
    "                     duration=home_loan_duration,\n",
    "                     rate=home_loan_rate, \n",
    "                     down_payment=home_down_payment)\n",
    "\n",
    "emi_house"
   ]
  },
  {
   "cell_type": "code",
   "execution_count": 58,
   "id": "bcd2f8b1-731c-45fa-b279-1d86ad324cf4",
   "metadata": {},
   "outputs": [
    {
     "data": {
      "text/plain": [
       "5331"
      ]
     },
     "execution_count": 58,
     "metadata": {},
     "output_type": "execute_result"
    }
   ],
   "source": [
    "cost_of_car = 60000\n",
    "car_loan_duration = 1*12 # months\n",
    "car_loan_rate = .12/12 # monthly\n",
    "\n",
    "emi_car = loan_emi(amount=cost_of_car, \n",
    "                   duration=car_loan_duration, \n",
    "                   rate=car_loan_rate)\n",
    "\n",
    "emi_car"
   ]
  },
  {
   "cell_type": "code",
   "execution_count": 49,
   "id": "25311f73-52ee-45c2-953b-e8262dd48d60",
   "metadata": {},
   "outputs": [
    {
     "name": "stdout",
     "output_type": "stream",
     "text": [
      "Shaun makes a total monthly payment of $15561 towards loan repayments.\n"
     ]
    }
   ],
   "source": [
    "print(\"Shaun makes a total monthly payment of ${} towards loan repayments.\".format(emi_house+emi_car))"
   ]
  },
  {
   "cell_type": "code",
   "execution_count": 50,
   "id": "46838723-67a1-4b2a-a5e1-1d931019fbeb",
   "metadata": {},
   "outputs": [
    {
     "name": "stdout",
     "output_type": "stream",
     "text": [
      "Now computing the result..\n",
      "Failed to compute result because you were trying to divide by zero\n",
      "None\n"
     ]
    }
   ],
   "source": [
    "try:\n",
    "    print(\"Now computing the result..\")\n",
    "    result = 5 / 0\n",
    "    print(\"Computation was completed successfully\")\n",
    "except ZeroDivisionError:\n",
    "    print(\"Failed to compute result because you were trying to divide by zero\")\n",
    "    result = None\n",
    "\n",
    "print(result)"
   ]
  },
  {
   "cell_type": "code",
   "execution_count": 51,
   "id": "2b735ec9-6be1-41f6-8cc3-0c0c01865689",
   "metadata": {},
   "outputs": [],
   "source": [
    "def loan_emi(amount, duration, rate, down_payment=0):\n",
    "    loan_amount = amount - down_payment\n",
    "    try:\n",
    "        emi = loan_amount * rate * ((1+rate)**duration) / (((1+rate)**duration)-1)\n",
    "    except ZeroDivisionError:\n",
    "        emi = loan_amount / duration\n",
    "    emi = math.ceil(emi)\n",
    "    return emi"
   ]
  },
  {
   "cell_type": "code",
   "execution_count": 52,
   "id": "753931e1-c382-4625-9824-5ffa77d6dab6",
   "metadata": {},
   "outputs": [
    {
     "data": {
      "text/plain": [
       "1267"
      ]
     },
     "execution_count": 52,
     "metadata": {},
     "output_type": "execute_result"
    }
   ],
   "source": [
    "emi_with_interest = loan_emi(amount=100000, duration=10*12, rate=0.09/12)\n",
    "emi_with_interest"
   ]
  },
  {
   "cell_type": "code",
   "execution_count": 53,
   "id": "f7c93a6d-3c40-476d-9c00-192a55c148a9",
   "metadata": {},
   "outputs": [
    {
     "data": {
      "text/plain": [
       "834"
      ]
     },
     "execution_count": 53,
     "metadata": {},
     "output_type": "execute_result"
    }
   ],
   "source": [
    "emi_without_interest = loan_emi(amount=100000, duration=10*12, rate=0)\n",
    "emi_without_interest"
   ]
  },
  {
   "cell_type": "code",
   "execution_count": 54,
   "id": "78192c26-8fd6-40ed-a7da-8d1a28570e85",
   "metadata": {},
   "outputs": [],
   "source": [
    "total_interest = (emi_with_interest - emi_without_interest) * 10*12"
   ]
  },
  {
   "cell_type": "code",
   "execution_count": 55,
   "id": "0987741e-19b8-4d06-9f0f-87403853929c",
   "metadata": {},
   "outputs": [
    {
     "name": "stdout",
     "output_type": "stream",
     "text": [
      "The total interest paid is $51960.\n"
     ]
    }
   ],
   "source": [
    "print(\"The total interest paid is ${}.\".format(total_interest))"
   ]
  },
  {
   "cell_type": "markdown",
   "id": "9b9a15ed-e34a-4f6c-a08a-ee7817f07338",
   "metadata": {},
   "source": [
    "## Numerical Computing with Python and Numpy"
   ]
  },
  {
   "cell_type": "raw",
   "id": "34802239-aeb8-4925-b860-7cf2e380d2ac",
   "metadata": {},
   "source": [
    "Suppose we want to use climate data like the temperature, rainfall, and humidity to determine if a region is well suited for growing apples. A simple approach for doing this would be to formulate the relationship between the annual yield of apples (tons per hectare) and the climatic conditions like the average temperature (in degrees Fahrenheit), rainfall (in millimeters) & average relative humidity (in percentage) as a linear equation.\n",
    "\n",
    "yield_of_apples = w1 * temperature + w2 * rainfall + w3 * humidity"
   ]
  },
  {
   "attachments": {
    "32bcf9ac-3da7-485c-b717-6fec8f6eb86f.png": {
     "image/png": "[encoded data removed]"
    }
   },
   "cell_type": "markdown",
   "id": "7437dbbe-696c-4973-b77d-7bddaff7f216",
   "metadata": {},
   "source": [
    "![apple_info.png](attachment:32bcf9ac-3da7-485c-b717-6fec8f6eb86f.png)"
   ]
  },
  {
   "cell_type": "code",
   "execution_count": 1,
   "id": "aa6ad635-7f64-4a90-b72b-6944c7360376",
   "metadata": {},
   "outputs": [],
   "source": [
    "w1, w2, w3 = 0.3, 0.2, 0.5"
   ]
  },
  {
   "cell_type": "code",
   "execution_count": 2,
   "id": "9ab598da-b925-4f65-b4c8-7ab0a6c8daff",
   "metadata": {},
   "outputs": [],
   "source": [
    "kanto = [73, 67, 43]\n",
    "johto = [91, 88, 64]\n",
    "hoenn = [87, 134, 58]\n",
    "sinnoh = [102, 43, 37]\n",
    "unova = [69, 96, 70]"
   ]
  },
  {
   "cell_type": "code",
   "execution_count": 5,
   "id": "da146f1b-637a-41a0-9151-c56369a1dcb6",
   "metadata": {},
   "outputs": [
    {
     "data": {
      "text/plain": [
       "[73, 67, 43]"
      ]
     },
     "execution_count": 5,
     "metadata": {},
     "output_type": "execute_result"
    }
   ],
   "source": [
    "kanto"
   ]
  },
  {
   "cell_type": "code",
   "execution_count": 3,
   "id": "83620c8d-1a89-42b6-aa95-3c3b7f05b37a",
   "metadata": {},
   "outputs": [],
   "source": [
    "weights = [w1,w2,w3]"
   ]
  },
  {
   "cell_type": "code",
   "execution_count": 6,
   "id": "3f7aed7b-215b-420f-b34d-bcabe007921c",
   "metadata": {},
   "outputs": [
    {
     "data": {
      "text/plain": [
       "[0.3, 0.2, 0.5]"
      ]
     },
     "execution_count": 6,
     "metadata": {},
     "output_type": "execute_result"
    }
   ],
   "source": [
    "weights"
   ]
  },
  {
   "cell_type": "code",
   "execution_count": 8,
   "id": "51c2edcd-3947-4d77-9cc6-fbb2400dfd48",
   "metadata": {},
   "outputs": [
    {
     "name": "stdout",
     "output_type": "stream",
     "text": [
      "(73, 0.3)\n",
      "(67, 0.2)\n",
      "(43, 0.5)\n"
     ]
    }
   ],
   "source": [
    "#  example of zip\n",
    "for item in zip(kanto,weights):\n",
    "    print(item)"
   ]
  },
  {
   "cell_type": "code",
   "execution_count": 12,
   "id": "c800ec77-07f3-4485-8ece-33138a9a43bb",
   "metadata": {},
   "outputs": [],
   "source": [
    "def crop_yield(region,weights):\n",
    "    result = 0\n",
    "    for x,w in zip(region , weights):\n",
    "        result += x * w\n",
    "    return result"
   ]
  },
  {
   "cell_type": "code",
   "execution_count": 13,
   "id": "5e7ff655-56e1-4854-86fe-eff019fc18a8",
   "metadata": {},
   "outputs": [
    {
     "data": {
      "text/plain": [
       "56.8"
      ]
     },
     "execution_count": 13,
     "metadata": {},
     "output_type": "execute_result"
    }
   ],
   "source": [
    "crop_yield(kanto,weights)"
   ]
  },
  {
   "cell_type": "code",
   "execution_count": 13,
   "id": "0bef3ca0-c62d-4137-a110-ecdc7c5f2b24",
   "metadata": {},
   "outputs": [
    {
     "name": "stdout",
     "output_type": "stream",
     "text": [
      "Defaulting to user installation because normal site-packages is not writeable\n",
      "Requirement already satisfied: numpy in c:\\users\\91635\\appdata\\roaming\\python\\python312\\site-packages (1.26.4)\n"
     ]
    }
   ],
   "source": [
    "!pip install numpy "
   ]
  },
  {
   "cell_type": "code",
   "execution_count": 14,
   "id": "6f89e12b-2e8f-434e-8db8-d7e9cacd7b4f",
   "metadata": {},
   "outputs": [],
   "source": [
    "import numpy as np"
   ]
  },
  {
   "cell_type": "code",
   "execution_count": 15,
   "id": "7f08683f-1d47-450a-a9b2-409e94bd49eb",
   "metadata": {},
   "outputs": [],
   "source": [
    "kanto = np.array([73,67,43])"
   ]
  },
  {
   "cell_type": "code",
   "execution_count": 16,
   "id": "57d65fdf-32d4-4aea-b0e7-77350067a28f",
   "metadata": {},
   "outputs": [
    {
     "data": {
      "text/plain": [
       "array([73, 67, 43])"
      ]
     },
     "execution_count": 16,
     "metadata": {},
     "output_type": "execute_result"
    }
   ],
   "source": [
    "kanto"
   ]
  },
  {
   "cell_type": "code",
   "execution_count": 2,
   "id": "ea057072-abf4-4036-837c-97f2189ac7f8",
   "metadata": {},
   "outputs": [],
   "source": [
    "w1, w2, w3 = 0.3, 0.2, 0.5"
   ]
  },
  {
   "cell_type": "code",
   "execution_count": 20,
   "id": "00351caf-2919-45ee-8aa7-74de69664348",
   "metadata": {},
   "outputs": [],
   "source": [
    "weights = np.array([w1,w2,w3])"
   ]
  },
  {
   "cell_type": "code",
   "execution_count": 21,
   "id": "c00ded82-c8ec-4307-9f0d-235f52a3df24",
   "metadata": {},
   "outputs": [
    {
     "data": {
      "text/plain": [
       "56.8"
      ]
     },
     "execution_count": 21,
     "metadata": {},
     "output_type": "execute_result"
    }
   ],
   "source": [
    "np.dot(kanto,weights)"
   ]
  },
  {
   "cell_type": "code",
   "execution_count": 23,
   "id": "8c3277a5-bf4b-46ea-b794-cc9f6e65bcde",
   "metadata": {},
   "outputs": [
    {
     "data": {
      "text/plain": [
       "array([21.9, 13.4, 21.5])"
      ]
     },
     "execution_count": 23,
     "metadata": {},
     "output_type": "execute_result"
    }
   ],
   "source": [
    "kanto * weights"
   ]
  },
  {
   "cell_type": "code",
   "execution_count": 24,
   "id": "40b67fec-a6e2-418e-b588-c644da741295",
   "metadata": {},
   "outputs": [
    {
     "data": {
      "text/plain": [
       "56.8"
      ]
     },
     "execution_count": 24,
     "metadata": {},
     "output_type": "execute_result"
    }
   ],
   "source": [
    "(kanto * weights).sum()"
   ]
  },
  {
   "cell_type": "code",
   "execution_count": 25,
   "id": "7700b8b2-4844-4468-9b59-4a7996671e94",
   "metadata": {},
   "outputs": [],
   "source": [
    "# check the speed of python or numpy\n",
    "# Python lists\n",
    "arr1 = list(range(1000000))\n",
    "arr2 = list(range(1000000, 2000000))\n",
    "\n",
    "# Numpy arrays\n",
    "arr1_np = np.array(arr1)\n",
    "arr2_np = np.array(arr2)"
   ]
  },
  {
   "cell_type": "code",
   "execution_count": 26,
   "id": "08315b67-b275-4e82-9890-8068c8d85ca6",
   "metadata": {},
   "outputs": [
    {
     "name": "stdout",
     "output_type": "stream",
     "text": [
      "CPU times: total: 62.5 ms\n",
      "Wall time: 243 ms\n"
     ]
    },
    {
     "data": {
      "text/plain": [
       "833332333333500000"
      ]
     },
     "execution_count": 26,
     "metadata": {},
     "output_type": "execute_result"
    }
   ],
   "source": [
    "%%time\n",
    "result = 0\n",
    "for x1, x2 in zip(arr1, arr2):\n",
    "    result += x1*x2\n",
    "result"
   ]
  },
  {
   "cell_type": "code",
   "execution_count": 31,
   "id": "fea3baf5-da79-4f67-a733-296420cb46e1",
   "metadata": {},
   "outputs": [
    {
     "name": "stdout",
     "output_type": "stream",
     "text": [
      "CPU times: total: 0 ns\n",
      "Wall time: 2 ms\n"
     ]
    },
    {
     "data": {
      "text/plain": [
       "-1942957984"
      ]
     },
     "execution_count": 31,
     "metadata": {},
     "output_type": "execute_result"
    }
   ],
   "source": [
    "%%time\n",
    "np.dot(arr1_np, arr2_np)"
   ]
  },
  {
   "cell_type": "markdown",
   "id": "b0b41eaa-bedf-4e23-a7c7-2ab82037fba8",
   "metadata": {},
   "source": [
    "### Multi-dimensional Numpy arrays"
   ]
  },
  {
   "cell_type": "code",
   "execution_count": 32,
   "id": "b9d294b2-e2f6-4435-a023-bb71b268ba4a",
   "metadata": {},
   "outputs": [],
   "source": [
    "climate_data = np.array([[73, 67, 43],\n",
    "                         [91, 88, 64],\n",
    "                         [87, 134, 58],\n",
    "                         [102, 43, 37],\n",
    "                         [69, 96, 70]])"
   ]
  },
  {
   "cell_type": "code",
   "execution_count": 33,
   "id": "c436350e-e80d-4afb-86b5-0dc50b5e46fe",
   "metadata": {},
   "outputs": [
    {
     "data": {
      "text/plain": [
       "array([[ 73,  67,  43],\n",
       "       [ 91,  88,  64],\n",
       "       [ 87, 134,  58],\n",
       "       [102,  43,  37],\n",
       "       [ 69,  96,  70]])"
      ]
     },
     "execution_count": 33,
     "metadata": {},
     "output_type": "execute_result"
    }
   ],
   "source": [
    "climate_data"
   ]
  },
  {
   "cell_type": "code",
   "execution_count": 37,
   "id": "4848be85-3f96-46af-9d3b-48e9eb66e6bd",
   "metadata": {},
   "outputs": [
    {
     "data": {
      "text/plain": [
       "(5, 3)"
      ]
     },
     "execution_count": 37,
     "metadata": {},
     "output_type": "execute_result"
    }
   ],
   "source": [
    "# 2D array(matrix)\n",
    "climate_data.shape"
   ]
  },
  {
   "cell_type": "code",
   "execution_count": 38,
   "id": "a9dbb252-1474-40c9-ae6c-c073da9e1338",
   "metadata": {},
   "outputs": [
    {
     "data": {
      "text/plain": [
       "array([0.3, 0.2, 0.5])"
      ]
     },
     "execution_count": 38,
     "metadata": {},
     "output_type": "execute_result"
    }
   ],
   "source": [
    "weights"
   ]
  },
  {
   "cell_type": "code",
   "execution_count": 40,
   "id": "8e2defe8-71de-4229-865e-cfd2c4682924",
   "metadata": {},
   "outputs": [
    {
     "data": {
      "text/plain": [
       "(3,)"
      ]
     },
     "execution_count": 40,
     "metadata": {},
     "output_type": "execute_result"
    }
   ],
   "source": [
    "# 1D array (matrix)\n",
    "weights.shape"
   ]
  },
  {
   "cell_type": "code",
   "execution_count": 41,
   "id": "3c6b3068-d8e1-4d54-85c9-2af8fe932fd7",
   "metadata": {},
   "outputs": [],
   "source": [
    "# 3D array \n",
    "arr3 = np.array([\n",
    "    [[11, 12, 13], \n",
    "     [13, 14, 15]], \n",
    "    [[15, 16, 17], \n",
    "     [17, 18, 19.5]]])"
   ]
  },
  {
   "cell_type": "code",
   "execution_count": 43,
   "id": "c5b15494-28f3-4256-b8c7-baa6bb1878a1",
   "metadata": {},
   "outputs": [
    {
     "data": {
      "text/plain": [
       "(2, 2, 3)"
      ]
     },
     "execution_count": 43,
     "metadata": {},
     "output_type": "execute_result"
    }
   ],
   "source": [
    "arr3.shape"
   ]
  },
  {
   "cell_type": "code",
   "execution_count": 45,
   "id": "f7e4bbb3-5f00-4720-ba39-8510080ceb56",
   "metadata": {},
   "outputs": [
    {
     "data": {
      "text/plain": [
       "dtype('float64')"
      ]
     },
     "execution_count": 45,
     "metadata": {},
     "output_type": "execute_result"
    }
   ],
   "source": [
    "arr3.dtype"
   ]
  },
  {
   "cell_type": "code",
   "execution_count": 42,
   "id": "0892a80e-3aa6-410a-bee0-fa527acdb146",
   "metadata": {},
   "outputs": [
    {
     "data": {
      "text/plain": [
       "dtype('float64')"
      ]
     },
     "execution_count": 42,
     "metadata": {},
     "output_type": "execute_result"
    }
   ],
   "source": [
    "weights.dtype"
   ]
  },
  {
   "cell_type": "code",
   "execution_count": 44,
   "id": "341fb994-b633-4796-ab13-d27d858b6f10",
   "metadata": {},
   "outputs": [
    {
     "data": {
      "text/plain": [
       "dtype('int32')"
      ]
     },
     "execution_count": 44,
     "metadata": {},
     "output_type": "execute_result"
    }
   ],
   "source": [
    "climate_data.dtype\n"
   ]
  },
  {
   "cell_type": "markdown",
   "id": "48c9df45-31ca-4039-899d-10fd4c295693",
   "metadata": {},
   "source": [
    "### We can use the np.matmul function or the @ operator to perform matrix multiplication."
   ]
  },
  {
   "cell_type": "code",
   "execution_count": 46,
   "id": "7065f92f-d240-46a0-8a69-60cc8a53183b",
   "metadata": {},
   "outputs": [
    {
     "data": {
      "text/plain": [
       "array([56.8, 76.9, 81.9, 57.7, 74.9])"
      ]
     },
     "execution_count": 46,
     "metadata": {},
     "output_type": "execute_result"
    }
   ],
   "source": [
    "np.matmul(climate_data, weights)"
   ]
  },
  {
   "cell_type": "code",
   "execution_count": 48,
   "id": "f7ca1ea4-20bd-4c83-8867-4fde10be143b",
   "metadata": {},
   "outputs": [
    {
     "data": {
      "text/plain": [
       "array([56.8, 76.9, 81.9, 57.7, 74.9])"
      ]
     },
     "execution_count": 48,
     "metadata": {},
     "output_type": "execute_result"
    }
   ],
   "source": [
    "climate_data @ weights"
   ]
  },
  {
   "cell_type": "markdown",
   "id": "04910de3-277a-45ca-bfaa-7abcdcc4e638",
   "metadata": {},
   "source": [
    "### Working with CSV (comma-separated values) data files"
   ]
  },
  {
   "cell_type": "code",
   "execution_count": 49,
   "id": "7f9aad54-0c62-4921-8e13-88ebd1fb7cea",
   "metadata": {},
   "outputs": [
    {
     "data": {
      "text/plain": [
       "('climate.txt', <http.client.HTTPMessage at 0x1dbbe9df4d0>)"
      ]
     },
     "execution_count": 49,
     "metadata": {},
     "output_type": "execute_result"
    }
   ],
   "source": [
    "import urllib.request\n",
    "\n",
    "urllib.request.urlretrieve(\n",
    "    'https://gist.github.com/BirajCoder/a4ffcb76fd6fb221d76ac2ee2b8584e9/raw/4054f90adfd361b7aa4255e99c2e874664094cea/climate.csv', \n",
    "    'climate.txt')"
   ]
  },
  {
   "cell_type": "code",
   "execution_count": 50,
   "id": "5412c0bf-6cac-488a-9214-aeb45dd7431e",
   "metadata": {},
   "outputs": [],
   "source": [
    "climate_data = np.genfromtxt('climate.txt', delimiter=',', skip_header=1)"
   ]
  },
  {
   "cell_type": "code",
   "execution_count": 51,
   "id": "7b918aea-9cd5-4e0a-ab82-42896a28c3a1",
   "metadata": {},
   "outputs": [
    {
     "data": {
      "text/plain": [
       "array([[25., 76., 99.],\n",
       "       [39., 65., 70.],\n",
       "       [59., 45., 77.],\n",
       "       ...,\n",
       "       [99., 62., 58.],\n",
       "       [70., 71., 91.],\n",
       "       [92., 39., 76.]])"
      ]
     },
     "execution_count": 51,
     "metadata": {},
     "output_type": "execute_result"
    }
   ],
   "source": [
    "climate_data"
   ]
  },
  {
   "cell_type": "code",
   "execution_count": 52,
   "id": "9a3bc572-a539-4dd1-a3e7-e91fbd14b0a6",
   "metadata": {},
   "outputs": [
    {
     "data": {
      "text/plain": [
       "(10000, 3)"
      ]
     },
     "execution_count": 52,
     "metadata": {},
     "output_type": "execute_result"
    }
   ],
   "source": [
    "climate_data.shape"
   ]
  },
  {
   "cell_type": "code",
   "execution_count": 58,
   "id": "67c7853e-a4cd-4b8d-b43e-b0a663af5a16",
   "metadata": {},
   "outputs": [],
   "source": [
    "weights = np.array([0.3, 0.2, 0.5])"
   ]
  },
  {
   "cell_type": "code",
   "execution_count": 59,
   "id": "dc4e56d3-52cb-4bb6-b81e-92517661d3c0",
   "metadata": {},
   "outputs": [],
   "source": [
    "yields = climate_data @ weights"
   ]
  },
  {
   "cell_type": "code",
   "execution_count": 60,
   "id": "288f467a-cf2b-45b6-8038-359c1efa1a0b",
   "metadata": {},
   "outputs": [
    {
     "data": {
      "text/plain": [
       "array([72.2, 59.7, 65.2, ..., 71.1, 80.7, 73.4])"
      ]
     },
     "execution_count": 60,
     "metadata": {},
     "output_type": "execute_result"
    }
   ],
   "source": [
    "yields"
   ]
  },
  {
   "cell_type": "code",
   "execution_count": 61,
   "id": "a77da553-f1d7-4279-8e9a-b64e50175461",
   "metadata": {},
   "outputs": [
    {
     "data": {
      "text/plain": [
       "(10000,)"
      ]
     },
     "execution_count": 61,
     "metadata": {},
     "output_type": "execute_result"
    }
   ],
   "source": [
    "yields.shape"
   ]
  },
  {
   "cell_type": "code",
   "execution_count": 62,
   "id": "65a71142-23f5-4366-badd-ce29f55b3e96",
   "metadata": {},
   "outputs": [],
   "source": [
    "climate_results = np.concatenate((climate_data, yields.reshape(10000,1)), axis = 1)"
   ]
  },
  {
   "cell_type": "code",
   "execution_count": 63,
   "id": "211a9362-7760-455e-a139-0b915bd06560",
   "metadata": {},
   "outputs": [
    {
     "data": {
      "text/plain": [
       "array([[25. , 76. , 99. , 72.2],\n",
       "       [39. , 65. , 70. , 59.7],\n",
       "       [59. , 45. , 77. , 65.2],\n",
       "       ...,\n",
       "       [99. , 62. , 58. , 71.1],\n",
       "       [70. , 71. , 91. , 80.7],\n",
       "       [92. , 39. , 76. , 73.4]])"
      ]
     },
     "execution_count": 63,
     "metadata": {},
     "output_type": "execute_result"
    }
   ],
   "source": [
    "climate_results"
   ]
  },
  {
   "cell_type": "code",
   "execution_count": 66,
   "id": "b7eecb5e-db6d-475e-985b-7d6b19ebb538",
   "metadata": {},
   "outputs": [],
   "source": [
    "np.savetxt('climate_results.txt', \n",
    "           climate_results, \n",
    "           fmt='%.2f', \n",
    "           delimiter=',',\n",
    "           header='temperature,rainfall,humidity,yeild_apples', \n",
    "           comments=' ')"
   ]
  },
  {
   "cell_type": "markdown",
   "id": "f61810fa-393d-4cbb-9494-3285d9887f13",
   "metadata": {},
   "source": [
    "#### Mathematics: np.sum, np.exp, np.round, arithemtic operators\n",
    "#### Array manipulation: np.reshape, np.stack, np.concatenate, np.split\n",
    "#### Linear Algebra: np.matmul, np.dot, np.transpose, np.eigvals\n",
    "#### Statistics: np.mean, np.median, np.std, np.max"
   ]
  },
  {
   "cell_type": "code",
   "execution_count": 2,
   "id": "1d048b5e-2545-4e20-b5aa-9124007d1867",
   "metadata": {},
   "outputs": [],
   "source": [
    "import numpy as np"
   ]
  },
  {
   "cell_type": "code",
   "execution_count": 3,
   "id": "233a517c-8a5f-4623-843f-541048ac917b",
   "metadata": {},
   "outputs": [],
   "source": [
    "arr2 = np.array([[1, 2, 3, 4], \n",
    "                 [5, 6, 7, 8], \n",
    "                 [9, 1, 2, 3]])"
   ]
  },
  {
   "cell_type": "code",
   "execution_count": 4,
   "id": "a0d23a57-4234-45ef-bb7e-c6a4b203c7e4",
   "metadata": {},
   "outputs": [],
   "source": [
    "arr3 = np.array([[11, 12, 13, 14], \n",
    "                 [15, 16, 17, 18], \n",
    "                 [19, 11, 12, 13]])"
   ]
  },
  {
   "cell_type": "code",
   "execution_count": 5,
   "id": "c1e3d6fe-281f-45bb-b4a9-89f645bb5b4e",
   "metadata": {},
   "outputs": [
    {
     "data": {
      "text/plain": [
       "array([[12, 14, 16, 18],\n",
       "       [20, 22, 24, 26],\n",
       "       [28, 12, 14, 16]])"
      ]
     },
     "execution_count": 5,
     "metadata": {},
     "output_type": "execute_result"
    }
   ],
   "source": [
    "arr2 + arr3"
   ]
  },
  {
   "cell_type": "code",
   "execution_count": 6,
   "id": "f184d797-f850-4f7b-b2b3-59345406479f",
   "metadata": {},
   "outputs": [
    {
     "data": {
      "text/plain": [
       "array([[ 4,  5,  6,  7],\n",
       "       [ 8,  9, 10, 11],\n",
       "       [12,  4,  5,  6]])"
      ]
     },
     "execution_count": 6,
     "metadata": {},
     "output_type": "execute_result"
    }
   ],
   "source": [
    "arr2 + 3"
   ]
  },
  {
   "cell_type": "code",
   "execution_count": 8,
   "id": "4196ad15-9d02-48fe-b16b-e0200eafacc7",
   "metadata": {},
   "outputs": [
    {
     "data": {
      "text/plain": [
       "array([[10, 10, 10, 10],\n",
       "       [10, 10, 10, 10],\n",
       "       [10, 10, 10, 10]])"
      ]
     },
     "execution_count": 8,
     "metadata": {},
     "output_type": "execute_result"
    }
   ],
   "source": [
    "arr3 - arr2"
   ]
  },
  {
   "cell_type": "code",
   "execution_count": 9,
   "id": "9b1149df-a0d1-434c-8313-be002ef775e1",
   "metadata": {},
   "outputs": [
    {
     "data": {
      "text/plain": [
       "array([[ 11,  24,  39,  56],\n",
       "       [ 75,  96, 119, 144],\n",
       "       [171,  11,  24,  39]])"
      ]
     },
     "execution_count": 9,
     "metadata": {},
     "output_type": "execute_result"
    }
   ],
   "source": [
    "arr2 * arr3"
   ]
  },
  {
   "cell_type": "code",
   "execution_count": 10,
   "id": "039ff56d-0ce9-4c0e-908d-f51f6749b681",
   "metadata": {},
   "outputs": [
    {
     "data": {
      "text/plain": [
       "array([[0.5, 1. , 1.5, 2. ],\n",
       "       [2.5, 3. , 3.5, 4. ],\n",
       "       [4.5, 0.5, 1. , 1.5]])"
      ]
     },
     "execution_count": 10,
     "metadata": {},
     "output_type": "execute_result"
    }
   ],
   "source": [
    "arr2 / 2"
   ]
  },
  {
   "cell_type": "code",
   "execution_count": 12,
   "id": "4d727b15-0db3-4347-acd0-b20c7f021d73",
   "metadata": {},
   "outputs": [
    {
     "data": {
      "text/plain": [
       "array([[1, 2, 3, 0],\n",
       "       [1, 2, 3, 0],\n",
       "       [1, 1, 2, 3]], dtype=int32)"
      ]
     },
     "execution_count": 12,
     "metadata": {},
     "output_type": "execute_result"
    }
   ],
   "source": [
    "arr2 % 4"
   ]
  },
  {
   "cell_type": "code",
   "execution_count": 13,
   "id": "5a441b25-48a8-478c-abeb-9ebf2b5b1768",
   "metadata": {},
   "outputs": [
    {
     "data": {
      "text/plain": [
       "array([[1, 2, 3, 4],\n",
       "       [5, 6, 7, 8],\n",
       "       [9, 1, 2, 3]])"
      ]
     },
     "execution_count": 13,
     "metadata": {},
     "output_type": "execute_result"
    }
   ],
   "source": [
    "arr2"
   ]
  },
  {
   "cell_type": "code",
   "execution_count": 14,
   "id": "af5b5202-11be-4e6a-bf86-23edf08a69a5",
   "metadata": {},
   "outputs": [
    {
     "data": {
      "text/plain": [
       "(3, 4)"
      ]
     },
     "execution_count": 14,
     "metadata": {},
     "output_type": "execute_result"
    }
   ],
   "source": [
    "arr2.shape"
   ]
  },
  {
   "cell_type": "code",
   "execution_count": 15,
   "id": "e52dd49c-35d3-43db-bdec-126e01997e0a",
   "metadata": {},
   "outputs": [],
   "source": [
    "arr4 = np.array([4,5,6,7])"
   ]
  },
  {
   "cell_type": "code",
   "execution_count": 16,
   "id": "a967a103-e1d2-4d7f-91fe-39d040371865",
   "metadata": {},
   "outputs": [
    {
     "data": {
      "text/plain": [
       "(4,)"
      ]
     },
     "execution_count": 16,
     "metadata": {},
     "output_type": "execute_result"
    }
   ],
   "source": [
    "arr4.shape"
   ]
  },
  {
   "cell_type": "code",
   "execution_count": 17,
   "id": "cde1e407-3bf4-4746-b0cc-18fd52df0fdb",
   "metadata": {},
   "outputs": [
    {
     "data": {
      "text/plain": [
       "array([[ 5,  7,  9, 11],\n",
       "       [ 9, 11, 13, 15],\n",
       "       [13,  6,  8, 10]])"
      ]
     },
     "execution_count": 17,
     "metadata": {},
     "output_type": "execute_result"
    }
   ],
   "source": [
    "arr2 + arr4"
   ]
  },
  {
   "cell_type": "markdown",
   "id": "dacbfe6f-49ee-447c-a80b-fe3fedee146c",
   "metadata": {},
   "source": [
    "When the expression arr2 + arr4 is evaluated, arr4 (which has the shape (4,)) is replicated three times to match the shape (3, 4) of arr2. Numpy performs the replication without actually creating three copies of the smaller dimension array, thus improving performance and using lower memory.\n",
    "##### Broadcasting only works if one of the arrays can be replicated to match the other array's shape.\n"
   ]
  },
  {
   "attachments": {
    "caab0228-b06a-47f7-a268-82040f4ebd30.png": {
     "image/png": "[encoded data removed]"
    }
   },
   "cell_type": "markdown",
   "id": "c80a035f-0a31-484b-b357-ea6522cbeb57",
   "metadata": {},
   "source": [
    "![broadcasting.png](attachment:caab0228-b06a-47f7-a268-82040f4ebd30.png)"
   ]
  },
  {
   "cell_type": "code",
   "execution_count": 18,
   "id": "d13fbbd5-ccee-46e1-9397-5c96a502d237",
   "metadata": {},
   "outputs": [],
   "source": [
    "arr5 = np.array([7,8])"
   ]
  },
  {
   "cell_type": "code",
   "execution_count": 19,
   "id": "fc259980-eb28-413f-83a7-4c5558c9be55",
   "metadata": {},
   "outputs": [
    {
     "data": {
      "text/plain": [
       "(2,)"
      ]
     },
     "execution_count": 19,
     "metadata": {},
     "output_type": "execute_result"
    }
   ],
   "source": [
    "arr5.shape"
   ]
  },
  {
   "cell_type": "code",
   "execution_count": 24,
   "id": "b770ac04-f16a-4d9b-b6e7-9df3a6014bdc",
   "metadata": {},
   "outputs": [],
   "source": [
    "arr5_replicated = np.array([[7,8],\n",
    "                           [7,8],\n",
    "                           [7,8]])\n",
    "# it's match with row of line 3 but column 4 is not match"
   ]
  },
  {
   "cell_type": "code",
   "execution_count": 21,
   "id": "875566f6-5688-41ac-9c70-5ecb18186ca4",
   "metadata": {},
   "outputs": [
    {
     "ename": "ValueError",
     "evalue": "operands could not be broadcast together with shapes (3,4) (2,) ",
     "output_type": "error",
     "traceback": [
      "\u001b[1;31m---------------------------------------------------------------------------\u001b[0m",
      "\u001b[1;31mValueError\u001b[0m                                Traceback (most recent call last)",
      "Cell \u001b[1;32mIn[21], line 1\u001b[0m\n\u001b[1;32m----> 1\u001b[0m \u001b[43marr2\u001b[49m\u001b[43m \u001b[49m\u001b[38;5;241;43m+\u001b[39;49m\u001b[43m \u001b[49m\u001b[43marr5\u001b[49m\n",
      "\u001b[1;31mValueError\u001b[0m: operands could not be broadcast together with shapes (3,4) (2,) "
     ]
    }
   ],
   "source": [
    "arr2 + arr5"
   ]
  },
  {
   "cell_type": "code",
   "execution_count": 22,
   "id": "7dc73cf8-fed2-41ef-bf9b-d177dda6e5d1",
   "metadata": {},
   "outputs": [
    {
     "ename": "ValueError",
     "evalue": "operands could not be broadcast together with shapes (3,4) (3,2) ",
     "output_type": "error",
     "traceback": [
      "\u001b[1;31m---------------------------------------------------------------------------\u001b[0m",
      "\u001b[1;31mValueError\u001b[0m                                Traceback (most recent call last)",
      "Cell \u001b[1;32mIn[22], line 1\u001b[0m\n\u001b[1;32m----> 1\u001b[0m \u001b[43marr2\u001b[49m\u001b[43m \u001b[49m\u001b[38;5;241;43m+\u001b[39;49m\u001b[43m \u001b[49m\u001b[43marr5_replicated\u001b[49m\n",
      "\u001b[1;31mValueError\u001b[0m: operands could not be broadcast together with shapes (3,4) (3,2) "
     ]
    }
   ],
   "source": [
    "arr2 + arr5_replicated"
   ]
  },
  {
   "cell_type": "code",
   "execution_count": 25,
   "id": "949a95bb-be74-4dce-9ce8-e124e66b50be",
   "metadata": {},
   "outputs": [],
   "source": [
    "arr1 = np.array([[1, 2, 3], [3, 4, 5]])\n",
    "arr2 = np.array([[2, 2, 3], [1, 2, 5]])"
   ]
  },
  {
   "cell_type": "code",
   "execution_count": 26,
   "id": "af6dc7a9-9599-4f2a-8d4b-2d4bf8a4463c",
   "metadata": {},
   "outputs": [
    {
     "data": {
      "text/plain": [
       "array([[False,  True,  True],\n",
       "       [False, False,  True]])"
      ]
     },
     "execution_count": 26,
     "metadata": {},
     "output_type": "execute_result"
    }
   ],
   "source": [
    "arr1 ==  arr2"
   ]
  },
  {
   "cell_type": "code",
   "execution_count": 29,
   "id": "f8ee2cae-da32-4455-9dff-14201e5ae8bc",
   "metadata": {},
   "outputs": [
    {
     "data": {
      "text/plain": [
       "dtype('bool')"
      ]
     },
     "execution_count": 29,
     "metadata": {},
     "output_type": "execute_result"
    }
   ],
   "source": [
    "(arr1 == arr2).dtype"
   ]
  },
  {
   "cell_type": "code",
   "execution_count": 27,
   "id": "8fb532da-6f57-42ab-9212-0322cb36f818",
   "metadata": {},
   "outputs": [
    {
     "data": {
      "text/plain": [
       "array([[ True, False, False],\n",
       "       [ True,  True, False]])"
      ]
     },
     "execution_count": 27,
     "metadata": {},
     "output_type": "execute_result"
    }
   ],
   "source": [
    "arr1 != arr2"
   ]
  },
  {
   "cell_type": "code",
   "execution_count": 28,
   "id": "3edeba82-5f9f-44df-8306-039b5fd44290",
   "metadata": {},
   "outputs": [
    {
     "data": {
      "text/plain": [
       "array([[False,  True,  True],\n",
       "       [ True,  True,  True]])"
      ]
     },
     "execution_count": 28,
     "metadata": {},
     "output_type": "execute_result"
    }
   ],
   "source": [
    "arr1 >= arr2"
   ]
  },
  {
   "cell_type": "code",
   "execution_count": 30,
   "id": "894e1fdd-41c8-490a-9f8b-7ef9fd019d50",
   "metadata": {},
   "outputs": [
    {
     "data": {
      "text/plain": [
       "3"
      ]
     },
     "execution_count": 30,
     "metadata": {},
     "output_type": "execute_result"
    }
   ],
   "source": [
    "(arr1 == arr2).sum()"
   ]
  },
  {
   "cell_type": "code",
   "execution_count": 31,
   "id": "40f63e52-9f65-4da1-af57-f51b372376c7",
   "metadata": {},
   "outputs": [],
   "source": [
    "arr3 = np.array([\n",
    "    [[11, 12, 13, 14], \n",
    "     [13, 14, 15, 19]], \n",
    "    \n",
    "    [[15, 16, 17, 21], \n",
    "     [63, 92, 36, 18]], \n",
    "    \n",
    "    [[98, 32, 81, 23],      \n",
    "     [17, 18, 19.5, 43]]])"
   ]
  },
  {
   "cell_type": "code",
   "execution_count": 32,
   "id": "1d343a76-11c2-4ef5-ab58-76b4858b8418",
   "metadata": {},
   "outputs": [
    {
     "data": {
      "text/plain": [
       "(3, 2, 4)"
      ]
     },
     "execution_count": 32,
     "metadata": {},
     "output_type": "execute_result"
    }
   ],
   "source": [
    "arr3.shape"
   ]
  },
  {
   "cell_type": "code",
   "execution_count": 34,
   "id": "344b587e-915e-4401-8368-7f66a16b7151",
   "metadata": {},
   "outputs": [
    {
     "data": {
      "text/plain": [
       "36.0"
      ]
     },
     "execution_count": 34,
     "metadata": {},
     "output_type": "execute_result"
    }
   ],
   "source": [
    "# single elemnet \n",
    "arr3[1,1,2]"
   ]
  },
  {
   "cell_type": "code",
   "execution_count": 35,
   "id": "d54b58e1-6d68-4157-9fc9-e95f483afbc5",
   "metadata": {},
   "outputs": [
    {
     "data": {
      "text/plain": [
       "array([[[15., 16.]],\n",
       "\n",
       "       [[98., 32.]]])"
      ]
     },
     "execution_count": 35,
     "metadata": {},
     "output_type": "execute_result"
    }
   ],
   "source": [
    "# subarray using ranges\n",
    "arr3[1:,0:1,:2]"
   ]
  },
  {
   "cell_type": "code",
   "execution_count": 36,
   "id": "401e3f9d-6328-4091-a0e6-d444cfb88c4c",
   "metadata": {},
   "outputs": [
    {
     "data": {
      "text/plain": [
       "array([[63. , 92. , 36. ],\n",
       "       [17. , 18. , 19.5]])"
      ]
     },
     "execution_count": 36,
     "metadata": {},
     "output_type": "execute_result"
    }
   ],
   "source": [
    "# mixing indicies and ranges\n",
    "arr3[1:,1,:3]"
   ]
  },
  {
   "attachments": {
    "e8cd0ce0-3c02-4ab7-b9ae-23d5cfbf027a.png": {
     "image/png": "[encoded data removed]"
    }
   },
   "cell_type": "markdown",
   "id": "bf791f40-caf4-4605-a2bc-fad01f8082a7",
   "metadata": {},
   "source": [
    "![exmaple_numpy_matrix.png](attachment:e8cd0ce0-3c02-4ab7-b9ae-23d5cfbf027a.png)"
   ]
  },
  {
   "cell_type": "code",
   "execution_count": 40,
   "id": "00a0cd39-cd6d-496e-b0ea-7fb6fbcc5765",
   "metadata": {},
   "outputs": [
    {
     "data": {
      "text/plain": [
       "array([[0., 0.],\n",
       "       [0., 0.],\n",
       "       [0., 0.]])"
      ]
     },
     "execution_count": 40,
     "metadata": {},
     "output_type": "execute_result"
    }
   ],
   "source": [
    "# all zeros\n",
    "np.zeros((3,2))"
   ]
  },
  {
   "cell_type": "code",
   "execution_count": 41,
   "id": "3ac89c96-a12f-411d-8146-64e973c9c103",
   "metadata": {},
   "outputs": [
    {
     "data": {
      "text/plain": [
       "array([[[1., 1., 1.],\n",
       "        [1., 1., 1.]],\n",
       "\n",
       "       [[1., 1., 1.],\n",
       "        [1., 1., 1.]]])"
      ]
     },
     "execution_count": 41,
     "metadata": {},
     "output_type": "execute_result"
    }
   ],
   "source": [
    "# All ones\n",
    "np.ones([2, 2, 3])"
   ]
  },
  {
   "cell_type": "code",
   "execution_count": 42,
   "id": "2f7761f4-54b7-4879-a0d6-b862d7f299a6",
   "metadata": {},
   "outputs": [
    {
     "data": {
      "text/plain": [
       "array([[1., 0., 0.],\n",
       "       [0., 1., 0.],\n",
       "       [0., 0., 1.]])"
      ]
     },
     "execution_count": 42,
     "metadata": {},
     "output_type": "execute_result"
    }
   ],
   "source": [
    "# Identity matrix\n",
    "np.eye(3)"
   ]
  },
  {
   "cell_type": "code",
   "execution_count": 45,
   "id": "db490023-6eb5-467a-bcc1-79ddeceaad14",
   "metadata": {},
   "outputs": [
    {
     "data": {
      "text/plain": [
       "array([0.04274717, 0.87191083, 0.44158149, 0.3196903 , 0.92574869])"
      ]
     },
     "execution_count": 45,
     "metadata": {},
     "output_type": "execute_result"
    }
   ],
   "source": [
    "# Random vector\n",
    "np.random.rand(5)\n",
    "# take from 0-1"
   ]
  },
  {
   "cell_type": "code",
   "execution_count": 46,
   "id": "482c14a6-330b-441c-a5c4-7aab1e99cb9f",
   "metadata": {},
   "outputs": [
    {
     "data": {
      "text/plain": [
       "array([[-0.17039543, -0.02817681,  1.3220156 ],\n",
       "       [ 1.18357189,  1.34146786,  0.02602955]])"
      ]
     },
     "execution_count": 46,
     "metadata": {},
     "output_type": "execute_result"
    }
   ],
   "source": [
    "# Random matrix\n",
    "np.random.randn(2, 3) # rand vs. randn - what's the difference?\n",
    "# guss method use and any value take of mean of zero |etc...."
   ]
  },
  {
   "cell_type": "code",
   "execution_count": 47,
   "id": "b8c6cb99-a81e-4077-b9e9-acba9224e986",
   "metadata": {},
   "outputs": [
    {
     "data": {
      "text/plain": [
       "array([[42, 42, 42],\n",
       "       [42, 42, 42]])"
      ]
     },
     "execution_count": 47,
     "metadata": {},
     "output_type": "execute_result"
    }
   ],
   "source": [
    "# Fixed value\n",
    "np.full([2, 3], 42)"
   ]
  },
  {
   "cell_type": "code",
   "execution_count": 48,
   "id": "f0395e47-bd0a-4dc2-b155-f79d1012e1d7",
   "metadata": {},
   "outputs": [
    {
     "data": {
      "text/plain": [
       "array([10, 13, 16, 19, 22, 25, 28, 31, 34, 37, 40, 43, 46, 49, 52, 55, 58,\n",
       "       61, 64, 67, 70, 73, 76, 79, 82, 85, 88])"
      ]
     },
     "execution_count": 48,
     "metadata": {},
     "output_type": "execute_result"
    }
   ],
   "source": [
    "# Range with start, end and step\n",
    "np.arange(10, 90, 3)"
   ]
  },
  {
   "cell_type": "code",
   "execution_count": 51,
   "id": "bb821d8a-bb02-4559-944c-d5b3a8c441ed",
   "metadata": {},
   "outputs": [
    {
     "data": {
      "text/plain": [
       "array([[[10, 13, 16],\n",
       "        [19, 22, 25],\n",
       "        [28, 31, 34]],\n",
       "\n",
       "       [[37, 40, 43],\n",
       "        [46, 49, 52],\n",
       "        [55, 58, 61]],\n",
       "\n",
       "       [[64, 67, 70],\n",
       "        [73, 76, 79],\n",
       "        [82, 85, 88]]])"
      ]
     },
     "execution_count": 51,
     "metadata": {},
     "output_type": "execute_result"
    }
   ],
   "source": [
    "np.arange(10,90,3).reshape(3,3,3)"
   ]
  },
  {
   "cell_type": "code",
   "execution_count": 52,
   "id": "1dd4d69e-4aa3-421e-b322-94c99b9de955",
   "metadata": {},
   "outputs": [
    {
     "data": {
      "text/plain": [
       "array([ 3.,  6.,  9., 12., 15., 18., 21., 24., 27.])"
      ]
     },
     "execution_count": 52,
     "metadata": {},
     "output_type": "execute_result"
    }
   ],
   "source": [
    "# Equally spaced numbers in a range\n",
    "np.linspace(3, 27, 9)"
   ]
  },
  {
   "cell_type": "code",
   "execution_count": 53,
   "id": "b855f811-9fca-47d6-a6fc-dc0e37d0db6c",
   "metadata": {},
   "outputs": [
    {
     "data": {
      "text/plain": [
       "1.0"
      ]
     },
     "execution_count": 53,
     "metadata": {},
     "output_type": "execute_result"
    }
   ],
   "source": [
    "np.sin(np.pi/2.)"
   ]
  },
  {
   "cell_type": "code",
   "execution_count": 54,
   "id": "1e45c163-7330-4f28-bd12-c6f046b2cbb3",
   "metadata": {},
   "outputs": [
    {
     "data": {
      "text/plain": [
       "array([0.        , 0.5       , 0.70710678, 0.8660254 , 1.        ])"
      ]
     },
     "execution_count": 54,
     "metadata": {},
     "output_type": "execute_result"
    }
   ],
   "source": [
    "np.sin(np.array((0., 30., 45., 60., 90.)) * np.pi / 180. )"
   ]
  }
 ],
 "metadata": {
  "kernelspec": {
   "display_name": "Python 3 (ipykernel)",
   "language": "python",
   "name": "python3"
  },
  "language_info": {
   "codemirror_mode": {
    "name": "ipython",
    "version": 3
   },
   "file_extension": ".py",
   "mimetype": "text/x-python",
   "name": "python",
   "nbconvert_exporter": "python",
   "pygments_lexer": "ipython3",
   "version": "3.12.3"
  }
 },
 "nbformat": 4,
 "nbformat_minor": 5
}
